{
 "cells": [
  {
   "cell_type": "code",
   "execution_count": 2,
   "metadata": {
    "collapsed": true
   },
   "outputs": [],
   "source": [
    "from lxml import html\n",
    "import requests\n",
    "import pandas as pd"
   ]
  },
  {
   "cell_type": "code",
   "execution_count": 3,
   "metadata": {
    "collapsed": true
   },
   "outputs": [],
   "source": [
    "page = requests.get('http://store.steampowered.com/search/?')  #retrieve webpage\n",
    "tree = html.fromstring(page.content) # save rerults to a tree "
   ]
  },
  {
   "cell_type": "code",
   "execution_count": 4,
   "metadata": {
    "collapsed": true
   },
   "outputs": [],
   "source": [
    "#This will create a list of buyers:\n",
    "buyers = tree.xpath('//span[@class=\"title\"]/text()')\n",
    "#This will create a list of prices\n",
    "prices = tree.xpath('//div[@class=\"col search_price  responsive_secondrow\"]/text()')"
   ]
  },
  {
   "cell_type": "code",
   "execution_count": 5,
   "metadata": {
    "collapsed": false
   },
   "outputs": [
    {
     "name": "stdout",
     "output_type": "stream",
     "text": [
      "Buyers:  ['Dota 2', 'Counter-Strike: Global Offensive', \"Tom Clancy's Ghost Recon® Wildlands\", 'Turok 2: Seeds of Evil', \"Tom Clancy's Rainbow Six® Siege\", 'H1Z1: King of the Kill', 'Path of Exile', 'Rocket League®', 'Warframe', 'DOOM', 'SMITE®', 'Total War: WARHAMMER', 'BioShock Infinite', 'Team Fortress 2', 'Borderlands 2', 'War Thunder', 'HITMAN™', 'RimWorld', 'Train Sim World®: CSX Heavy Haul', 'Grand Theft Auto V', 'BioShock™ Remastered', 'BioShock™ 2 Remastered', 'Grim Dawn', 'Blackwake', 'Sid Meier’s Civilization® VI']\n",
      "Prices:  ['\\r\\n\\t\\t\\t\\t\\t\\t\\t\\tFree to Play\\t\\t\\t\\t\\t\\t\\t', '\\r\\n\\t\\t\\t\\t\\t\\t\\t\\t$14.99\\t\\t\\t\\t\\t\\t\\t', '\\r\\n\\t\\t\\t\\t\\t\\t\\t\\t$59.99\\t\\t\\t\\t\\t\\t\\t', '\\r\\n\\t\\t\\t\\t\\t\\t\\t\\t$14.99\\t\\t\\t\\t\\t\\t\\t', '\\r\\n\\t\\t\\t\\t\\t\\t\\t\\t$19.99\\t\\t\\t\\t\\t\\t\\t', '\\r\\n\\t\\t\\t\\t\\t\\t\\t\\tFree to Play\\t\\t\\t\\t\\t\\t\\t', '\\r\\n\\t\\t\\t\\t\\t\\t\\t\\t$19.99\\t\\t\\t\\t\\t\\t\\t', '\\r\\n\\t\\t\\t\\t\\t\\t\\t\\tFree to Play\\t\\t\\t\\t\\t\\t\\t', '\\r\\n\\t\\t\\t\\t\\t\\t\\t\\tFree to Play\\t\\t\\t\\t\\t\\t\\t', '\\r\\n\\t\\t\\t\\t\\t\\t\\t\\tFree to Play\\t\\t\\t\\t\\t\\t\\t', '\\r\\n\\t\\t\\t\\t\\t\\t\\t\\tFree to Play\\t\\t\\t\\t\\t\\t\\t', '\\r\\n\\t\\t\\t\\t\\t\\t\\t\\t$29.99\\t\\t\\t\\t\\t\\t\\t', '\\r\\n\\t\\t\\t\\t\\t\\t\\t\\t$39.99\\t\\t\\t\\t\\t\\t\\t', '\\r\\n\\t\\t\\t\\t\\t\\t\\t\\t$59.99\\t\\t\\t\\t\\t\\t\\t', '\\r\\n\\t\\t\\t\\t\\t\\t\\t\\t$19.99\\t\\t\\t\\t\\t\\t\\t']\n"
     ]
    }
   ],
   "source": [
    "print ('Buyers: ', buyers)\n",
    "print ('Prices: ', prices)"
   ]
  },
  {
   "cell_type": "code",
   "execution_count": 9,
   "metadata": {
    "collapsed": false
   },
   "outputs": [
    {
     "data": {
      "text/html": [
       "<div>\n",
       "<table border=\"1\" class=\"dataframe\">\n",
       "  <thead>\n",
       "    <tr style=\"text-align: right;\">\n",
       "      <th></th>\n",
       "      <th>Buyer Name</th>\n",
       "      <th>Price</th>\n",
       "    </tr>\n",
       "  </thead>\n",
       "  <tbody>\n",
       "    <tr>\n",
       "      <th>0</th>\n",
       "      <td>Dota 2</td>\n",
       "      <td>\\r\\n\\t\\t\\t\\t\\t\\t\\t\\tFree to Play\\t\\t\\t\\t\\t\\t\\t</td>\n",
       "    </tr>\n",
       "    <tr>\n",
       "      <th>1</th>\n",
       "      <td>Counter-Strike: Global Offensive</td>\n",
       "      <td>\\r\\n\\t\\t\\t\\t\\t\\t\\t\\t$14.99\\t\\t\\t\\t\\t\\t\\t</td>\n",
       "    </tr>\n",
       "    <tr>\n",
       "      <th>2</th>\n",
       "      <td>Tom Clancy's Ghost Recon® Wildlands</td>\n",
       "      <td>\\r\\n\\t\\t\\t\\t\\t\\t\\t\\t$59.99\\t\\t\\t\\t\\t\\t\\t</td>\n",
       "    </tr>\n",
       "    <tr>\n",
       "      <th>3</th>\n",
       "      <td>Turok 2: Seeds of Evil</td>\n",
       "      <td>\\r\\n\\t\\t\\t\\t\\t\\t\\t\\t$14.99\\t\\t\\t\\t\\t\\t\\t</td>\n",
       "    </tr>\n",
       "    <tr>\n",
       "      <th>4</th>\n",
       "      <td>Tom Clancy's Rainbow Six® Siege</td>\n",
       "      <td>\\r\\n\\t\\t\\t\\t\\t\\t\\t\\t$19.99\\t\\t\\t\\t\\t\\t\\t</td>\n",
       "    </tr>\n",
       "    <tr>\n",
       "      <th>5</th>\n",
       "      <td>H1Z1: King of the Kill</td>\n",
       "      <td>\\r\\n\\t\\t\\t\\t\\t\\t\\t\\tFree to Play\\t\\t\\t\\t\\t\\t\\t</td>\n",
       "    </tr>\n",
       "    <tr>\n",
       "      <th>6</th>\n",
       "      <td>Path of Exile</td>\n",
       "      <td>\\r\\n\\t\\t\\t\\t\\t\\t\\t\\t$19.99\\t\\t\\t\\t\\t\\t\\t</td>\n",
       "    </tr>\n",
       "    <tr>\n",
       "      <th>7</th>\n",
       "      <td>Rocket League®</td>\n",
       "      <td>\\r\\n\\t\\t\\t\\t\\t\\t\\t\\tFree to Play\\t\\t\\t\\t\\t\\t\\t</td>\n",
       "    </tr>\n",
       "    <tr>\n",
       "      <th>8</th>\n",
       "      <td>Warframe</td>\n",
       "      <td>\\r\\n\\t\\t\\t\\t\\t\\t\\t\\tFree to Play\\t\\t\\t\\t\\t\\t\\t</td>\n",
       "    </tr>\n",
       "    <tr>\n",
       "      <th>9</th>\n",
       "      <td>DOOM</td>\n",
       "      <td>\\r\\n\\t\\t\\t\\t\\t\\t\\t\\tFree to Play\\t\\t\\t\\t\\t\\t\\t</td>\n",
       "    </tr>\n",
       "    <tr>\n",
       "      <th>10</th>\n",
       "      <td>SMITE®</td>\n",
       "      <td>\\r\\n\\t\\t\\t\\t\\t\\t\\t\\tFree to Play\\t\\t\\t\\t\\t\\t\\t</td>\n",
       "    </tr>\n",
       "    <tr>\n",
       "      <th>11</th>\n",
       "      <td>Total War: WARHAMMER</td>\n",
       "      <td>\\r\\n\\t\\t\\t\\t\\t\\t\\t\\t$29.99\\t\\t\\t\\t\\t\\t\\t</td>\n",
       "    </tr>\n",
       "    <tr>\n",
       "      <th>12</th>\n",
       "      <td>BioShock Infinite</td>\n",
       "      <td>\\r\\n\\t\\t\\t\\t\\t\\t\\t\\t$39.99\\t\\t\\t\\t\\t\\t\\t</td>\n",
       "    </tr>\n",
       "    <tr>\n",
       "      <th>13</th>\n",
       "      <td>Team Fortress 2</td>\n",
       "      <td>\\r\\n\\t\\t\\t\\t\\t\\t\\t\\t$59.99\\t\\t\\t\\t\\t\\t\\t</td>\n",
       "    </tr>\n",
       "    <tr>\n",
       "      <th>14</th>\n",
       "      <td>Borderlands 2</td>\n",
       "      <td>\\r\\n\\t\\t\\t\\t\\t\\t\\t\\t$19.99\\t\\t\\t\\t\\t\\t\\t</td>\n",
       "    </tr>\n",
       "    <tr>\n",
       "      <th>15</th>\n",
       "      <td>War Thunder</td>\n",
       "      <td>NaN</td>\n",
       "    </tr>\n",
       "    <tr>\n",
       "      <th>16</th>\n",
       "      <td>HITMAN™</td>\n",
       "      <td>NaN</td>\n",
       "    </tr>\n",
       "    <tr>\n",
       "      <th>17</th>\n",
       "      <td>RimWorld</td>\n",
       "      <td>NaN</td>\n",
       "    </tr>\n",
       "    <tr>\n",
       "      <th>18</th>\n",
       "      <td>Train Sim World®: CSX Heavy Haul</td>\n",
       "      <td>NaN</td>\n",
       "    </tr>\n",
       "    <tr>\n",
       "      <th>19</th>\n",
       "      <td>Grand Theft Auto V</td>\n",
       "      <td>NaN</td>\n",
       "    </tr>\n",
       "    <tr>\n",
       "      <th>20</th>\n",
       "      <td>BioShock™ Remastered</td>\n",
       "      <td>NaN</td>\n",
       "    </tr>\n",
       "    <tr>\n",
       "      <th>21</th>\n",
       "      <td>BioShock™ 2 Remastered</td>\n",
       "      <td>NaN</td>\n",
       "    </tr>\n",
       "    <tr>\n",
       "      <th>22</th>\n",
       "      <td>Grim Dawn</td>\n",
       "      <td>NaN</td>\n",
       "    </tr>\n",
       "    <tr>\n",
       "      <th>23</th>\n",
       "      <td>Blackwake</td>\n",
       "      <td>NaN</td>\n",
       "    </tr>\n",
       "    <tr>\n",
       "      <th>24</th>\n",
       "      <td>Sid Meier’s Civilization® VI</td>\n",
       "      <td>NaN</td>\n",
       "    </tr>\n",
       "  </tbody>\n",
       "</table>\n",
       "</div>"
      ],
      "text/plain": [
       "                             Buyer Name  \\\n",
       "0                                Dota 2   \n",
       "1      Counter-Strike: Global Offensive   \n",
       "2   Tom Clancy's Ghost Recon® Wildlands   \n",
       "3                Turok 2: Seeds of Evil   \n",
       "4       Tom Clancy's Rainbow Six® Siege   \n",
       "5                H1Z1: King of the Kill   \n",
       "6                         Path of Exile   \n",
       "7                        Rocket League®   \n",
       "8                              Warframe   \n",
       "9                                  DOOM   \n",
       "10                               SMITE®   \n",
       "11                 Total War: WARHAMMER   \n",
       "12                    BioShock Infinite   \n",
       "13                      Team Fortress 2   \n",
       "14                        Borderlands 2   \n",
       "15                          War Thunder   \n",
       "16                              HITMAN™   \n",
       "17                             RimWorld   \n",
       "18     Train Sim World®: CSX Heavy Haul   \n",
       "19                   Grand Theft Auto V   \n",
       "20                 BioShock™ Remastered   \n",
       "21               BioShock™ 2 Remastered   \n",
       "22                            Grim Dawn   \n",
       "23                            Blackwake   \n",
       "24         Sid Meier’s Civilization® VI   \n",
       "\n",
       "                                             Price  \n",
       "0   \\r\\n\\t\\t\\t\\t\\t\\t\\t\\tFree to Play\\t\\t\\t\\t\\t\\t\\t  \n",
       "1         \\r\\n\\t\\t\\t\\t\\t\\t\\t\\t$14.99\\t\\t\\t\\t\\t\\t\\t  \n",
       "2         \\r\\n\\t\\t\\t\\t\\t\\t\\t\\t$59.99\\t\\t\\t\\t\\t\\t\\t  \n",
       "3         \\r\\n\\t\\t\\t\\t\\t\\t\\t\\t$14.99\\t\\t\\t\\t\\t\\t\\t  \n",
       "4         \\r\\n\\t\\t\\t\\t\\t\\t\\t\\t$19.99\\t\\t\\t\\t\\t\\t\\t  \n",
       "5   \\r\\n\\t\\t\\t\\t\\t\\t\\t\\tFree to Play\\t\\t\\t\\t\\t\\t\\t  \n",
       "6         \\r\\n\\t\\t\\t\\t\\t\\t\\t\\t$19.99\\t\\t\\t\\t\\t\\t\\t  \n",
       "7   \\r\\n\\t\\t\\t\\t\\t\\t\\t\\tFree to Play\\t\\t\\t\\t\\t\\t\\t  \n",
       "8   \\r\\n\\t\\t\\t\\t\\t\\t\\t\\tFree to Play\\t\\t\\t\\t\\t\\t\\t  \n",
       "9   \\r\\n\\t\\t\\t\\t\\t\\t\\t\\tFree to Play\\t\\t\\t\\t\\t\\t\\t  \n",
       "10  \\r\\n\\t\\t\\t\\t\\t\\t\\t\\tFree to Play\\t\\t\\t\\t\\t\\t\\t  \n",
       "11        \\r\\n\\t\\t\\t\\t\\t\\t\\t\\t$29.99\\t\\t\\t\\t\\t\\t\\t  \n",
       "12        \\r\\n\\t\\t\\t\\t\\t\\t\\t\\t$39.99\\t\\t\\t\\t\\t\\t\\t  \n",
       "13        \\r\\n\\t\\t\\t\\t\\t\\t\\t\\t$59.99\\t\\t\\t\\t\\t\\t\\t  \n",
       "14        \\r\\n\\t\\t\\t\\t\\t\\t\\t\\t$19.99\\t\\t\\t\\t\\t\\t\\t  \n",
       "15                                             NaN  \n",
       "16                                             NaN  \n",
       "17                                             NaN  \n",
       "18                                             NaN  \n",
       "19                                             NaN  \n",
       "20                                             NaN  \n",
       "21                                             NaN  \n",
       "22                                             NaN  \n",
       "23                                             NaN  \n",
       "24                                             NaN  "
      ]
     },
     "execution_count": 9,
     "metadata": {},
     "output_type": "execute_result"
    }
   ],
   "source": [
    "df = pd.DataFrame({'Buyer Name' : pd.Series(buyers), \n",
    "                   'Price' : pd.Series(prices)}) \n",
    "df"
   ]
  },
  {
   "cell_type": "code",
   "execution_count": null,
   "metadata": {
    "collapsed": true
   },
   "outputs": [],
   "source": []
  }
 ],
 "metadata": {
  "kernelspec": {
   "display_name": "Python 3",
   "language": "python",
   "name": "python3"
  },
  "language_info": {
   "codemirror_mode": {
    "name": "ipython",
    "version": 3
   },
   "file_extension": ".py",
   "mimetype": "text/x-python",
   "name": "python",
   "nbconvert_exporter": "python",
   "pygments_lexer": "ipython3",
   "version": "3.6.0"
  }
 },
 "nbformat": 4,
 "nbformat_minor": 2
}
